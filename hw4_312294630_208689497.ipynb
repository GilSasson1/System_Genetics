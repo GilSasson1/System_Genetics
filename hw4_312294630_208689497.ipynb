{
 "cells": [
  {
   "metadata": {},
   "cell_type": "markdown",
   "source": "# Assignment 4 in System Genetics - Gil Sasson & Tomer Schweid",
   "id": "6e6bca5484a2d091"
  },
  {
   "metadata": {},
   "cell_type": "markdown",
   "source": "## Loading Modules",
   "id": "d74f33e390c705df"
  },
  {
   "metadata": {
    "collapsed": true,
    "ExecuteTime": {
     "end_time": "2024-10-24T15:09:29.369567Z",
     "start_time": "2024-10-24T15:09:22.292427Z"
    }
   },
   "cell_type": "code",
   "source": [
    "import pandas as pd\n",
    "import numpy as np\n",
    "import matplotlib.pyplot as plt\n",
    "import matplotlib.gridspec as gridspec\n",
    "plt.set_loglevel('WARNING') # Suppresses some information level messages to make the notebook cleaner\n",
    "import seaborn as sns\n",
    "import os\n",
    "import pickle\n",
    "from pgmpy.models import BayesianNetwork\n",
    "from pgmpy.estimators import MaximumLikelihoodEstimator\n",
    "from pgmpy.metrics import log_likelihood_score\n",
    "from joblib import Parallel, delayed\n",
    "from statsmodels.stats.multitest import fdrcorrection"
   ],
   "id": "7d512a9b813f6133",
   "outputs": [],
   "execution_count": 1
  },
  {
   "metadata": {},
   "cell_type": "markdown",
   "source": "## Global Variables",
   "id": "f7f9ceaef6536413"
  },
  {
   "metadata": {},
   "cell_type": "markdown",
   "source": "These variables are used in several places in the notebook:",
   "id": "bc595583ab669b7e"
  },
  {
   "metadata": {
    "ExecuteTime": {
     "end_time": "2024-10-24T15:09:29.433769Z",
     "start_time": "2024-10-24T15:09:29.428187Z"
    }
   },
   "cell_type": "code",
   "source": [
    "# 2Mbp was defined in assignment 3 as the cutoff between cis-acting and trans-acting eQTL, it is used as a threshold for \"proximity\"\n",
    "basepair_cutoff = 2000000\n",
    "\n",
    "# Setting the amount of repetitions for the permutation test\n",
    "repetitions = 10000"
   ],
   "id": "393eec388e2f8fd0",
   "outputs": [],
   "execution_count": 2
  },
  {
   "metadata": {},
   "cell_type": "markdown",
   "source": "## Loading Data\n",
   "id": "bd7c8344c2706ee8"
  },
  {
   "metadata": {
    "ExecuteTime": {
     "end_time": "2024-10-24T15:09:29.609799Z",
     "start_time": "2024-10-24T15:09:29.473963Z"
    }
   },
   "cell_type": "code",
   "source": [
    "directory_path = '.' + os.sep + 'data'\n",
    "\n",
    "# Loading genotype and phenotype data\n",
    "genotype_df = pd.read_csv(directory_path + os.sep + 'genotypes.txt', sep=\",\")\n",
    "phenotype_df = pd.read_csv(directory_path + os.sep + 'phenotypes.txt', sep=\",\")\n",
    "\n",
    "# Load QTLs from assignment 2\n",
    "qtls = pd.read_csv(directory_path + os.sep + 'significant_QTLs.txt', sep=\",\")\n",
    "\n",
    "# Load the eQTLs and genes as dataframes from assignment 3\n",
    "with open(directory_path + os.sep + 'eQTLs_Myeloid Dataset.pkl', 'rb') as file:\n",
    "    eqtls_myeloid = pickle.load(file)\n",
    "with open(directory_path + os.sep + 'eQTLs_Liver Dataset.pkl', 'rb') as file:\n",
    "    eqtls_liver = pickle.load(file)\n",
    "with open(directory_path + os.sep + 'genes_Myeloid Dataset.pkl', 'rb') as file:\n",
    "    genes_myeloid = pickle.load(file)\n",
    "with open(directory_path + os.sep + 'genes_Liver Dataset.pkl', 'rb') as file:\n",
    "    genes_liver = pickle.load(file)\n",
    "\n",
    "# Loading gene expression data\n",
    "analysis_liver = pd.read_csv(directory_path + os.sep + 'analysis_liver.csv')\n",
    "analysis_myeloid = pd.read_csv(directory_path + os.sep + 'analysis_myeloid.csv')"
   ],
   "id": "c60d8f86e30e4a8c",
   "outputs": [],
   "execution_count": 3
  },
  {
   "metadata": {},
   "cell_type": "markdown",
   "source": "## - Short Summary of Previous Work and Dataset Explanation",
   "id": "6e8ce3fee12f6b7d"
  },
  {
   "metadata": {},
   "cell_type": "markdown",
   "source": [
    "The phenotye we chose to analyze is: \"Infectious disease, immune function: H5N1 influenza A virus mortality rate 30 days after infection (Boon-Webby Trait 1) [% death]\" (phenotype_id = 787).  \n",
    "In this assignment we will use:\n",
    "1. QTLs that were found associated to the phenotype (from assignment 2)\n",
    "2. eQTLs and their associated genes from the liver and myeloid datasets (from assignment 3)"
   ],
   "id": "2421d7ec3828c9d"
  },
  {
   "metadata": {},
   "cell_type": "markdown",
   "source": "### 1. Assignment 2 - QTLs analysis",
   "id": "836c4fe377695496"
  },
  {
   "metadata": {},
   "cell_type": "markdown",
   "source": "In the second assigment we analyzed BxD mice strains' genotypes data to find a significant association between SNPs and our phenotype. After multiple tests correction (Benjamini-Hochberg, α = 0.05) we found 19 QTLs that are associated with the chosen phenotype.",
   "id": "370caf0145202dc3"
  },
  {
   "metadata": {},
   "cell_type": "markdown",
   "source": "Here are the QTLs we found:",
   "id": "f0f8179dc5b9334"
  },
  {
   "metadata": {
    "ExecuteTime": {
     "end_time": "2024-10-24T15:10:23.276133Z",
     "start_time": "2024-10-24T15:10:23.211296Z"
    }
   },
   "cell_type": "code",
   "source": [
    "qtls.drop(columns=['-log(p)', 'p', 'is_significant?', 'corrected_p'], inplace=True)\n",
    "qtls"
   ],
   "id": "aeb3134d60d877c",
   "outputs": [
    {
     "ename": "KeyError",
     "evalue": "\"['-log(p)', 'p', 'is_significant?', 'corrected_p'] not found in axis\"",
     "output_type": "error",
     "traceback": [
      "\u001B[0;31m---------------------------------------------------------------------------\u001B[0m",
      "\u001B[0;31mKeyError\u001B[0m                                  Traceback (most recent call last)",
      "Cell \u001B[0;32mIn[6], line 1\u001B[0m\n\u001B[0;32m----> 1\u001B[0m \u001B[43mqtls\u001B[49m\u001B[38;5;241;43m.\u001B[39;49m\u001B[43mdrop\u001B[49m\u001B[43m(\u001B[49m\u001B[43mcolumns\u001B[49m\u001B[38;5;241;43m=\u001B[39;49m\u001B[43m[\u001B[49m\u001B[38;5;124;43m'\u001B[39;49m\u001B[38;5;124;43m-log(p)\u001B[39;49m\u001B[38;5;124;43m'\u001B[39;49m\u001B[43m,\u001B[49m\u001B[43m \u001B[49m\u001B[38;5;124;43m'\u001B[39;49m\u001B[38;5;124;43mp\u001B[39;49m\u001B[38;5;124;43m'\u001B[39;49m\u001B[43m,\u001B[49m\u001B[43m \u001B[49m\u001B[38;5;124;43m'\u001B[39;49m\u001B[38;5;124;43mis_significant?\u001B[39;49m\u001B[38;5;124;43m'\u001B[39;49m\u001B[43m,\u001B[49m\u001B[43m \u001B[49m\u001B[38;5;124;43m'\u001B[39;49m\u001B[38;5;124;43mcorrected_p\u001B[39;49m\u001B[38;5;124;43m'\u001B[39;49m\u001B[43m]\u001B[49m\u001B[43m,\u001B[49m\u001B[43m \u001B[49m\u001B[43minplace\u001B[49m\u001B[38;5;241;43m=\u001B[39;49m\u001B[38;5;28;43;01mTrue\u001B[39;49;00m\u001B[43m)\u001B[49m\n\u001B[1;32m      2\u001B[0m qtls\n",
      "File \u001B[0;32m/Library/Frameworks/Python.framework/Versions/3.11/lib/python3.11/site-packages/pandas/core/frame.py:5581\u001B[0m, in \u001B[0;36mDataFrame.drop\u001B[0;34m(self, labels, axis, index, columns, level, inplace, errors)\u001B[0m\n\u001B[1;32m   5433\u001B[0m \u001B[38;5;28;01mdef\u001B[39;00m \u001B[38;5;21mdrop\u001B[39m(\n\u001B[1;32m   5434\u001B[0m     \u001B[38;5;28mself\u001B[39m,\n\u001B[1;32m   5435\u001B[0m     labels: IndexLabel \u001B[38;5;241m|\u001B[39m \u001B[38;5;28;01mNone\u001B[39;00m \u001B[38;5;241m=\u001B[39m \u001B[38;5;28;01mNone\u001B[39;00m,\n\u001B[0;32m   (...)\u001B[0m\n\u001B[1;32m   5442\u001B[0m     errors: IgnoreRaise \u001B[38;5;241m=\u001B[39m \u001B[38;5;124m\"\u001B[39m\u001B[38;5;124mraise\u001B[39m\u001B[38;5;124m\"\u001B[39m,\n\u001B[1;32m   5443\u001B[0m ) \u001B[38;5;241m-\u001B[39m\u001B[38;5;241m>\u001B[39m DataFrame \u001B[38;5;241m|\u001B[39m \u001B[38;5;28;01mNone\u001B[39;00m:\n\u001B[1;32m   5444\u001B[0m \u001B[38;5;250m    \u001B[39m\u001B[38;5;124;03m\"\"\"\u001B[39;00m\n\u001B[1;32m   5445\u001B[0m \u001B[38;5;124;03m    Drop specified labels from rows or columns.\u001B[39;00m\n\u001B[1;32m   5446\u001B[0m \n\u001B[0;32m   (...)\u001B[0m\n\u001B[1;32m   5579\u001B[0m \u001B[38;5;124;03m            weight  1.0     0.8\u001B[39;00m\n\u001B[1;32m   5580\u001B[0m \u001B[38;5;124;03m    \"\"\"\u001B[39;00m\n\u001B[0;32m-> 5581\u001B[0m     \u001B[38;5;28;01mreturn\u001B[39;00m \u001B[38;5;28;43msuper\u001B[39;49m\u001B[43m(\u001B[49m\u001B[43m)\u001B[49m\u001B[38;5;241;43m.\u001B[39;49m\u001B[43mdrop\u001B[49m\u001B[43m(\u001B[49m\n\u001B[1;32m   5582\u001B[0m \u001B[43m        \u001B[49m\u001B[43mlabels\u001B[49m\u001B[38;5;241;43m=\u001B[39;49m\u001B[43mlabels\u001B[49m\u001B[43m,\u001B[49m\n\u001B[1;32m   5583\u001B[0m \u001B[43m        \u001B[49m\u001B[43maxis\u001B[49m\u001B[38;5;241;43m=\u001B[39;49m\u001B[43maxis\u001B[49m\u001B[43m,\u001B[49m\n\u001B[1;32m   5584\u001B[0m \u001B[43m        \u001B[49m\u001B[43mindex\u001B[49m\u001B[38;5;241;43m=\u001B[39;49m\u001B[43mindex\u001B[49m\u001B[43m,\u001B[49m\n\u001B[1;32m   5585\u001B[0m \u001B[43m        \u001B[49m\u001B[43mcolumns\u001B[49m\u001B[38;5;241;43m=\u001B[39;49m\u001B[43mcolumns\u001B[49m\u001B[43m,\u001B[49m\n\u001B[1;32m   5586\u001B[0m \u001B[43m        \u001B[49m\u001B[43mlevel\u001B[49m\u001B[38;5;241;43m=\u001B[39;49m\u001B[43mlevel\u001B[49m\u001B[43m,\u001B[49m\n\u001B[1;32m   5587\u001B[0m \u001B[43m        \u001B[49m\u001B[43minplace\u001B[49m\u001B[38;5;241;43m=\u001B[39;49m\u001B[43minplace\u001B[49m\u001B[43m,\u001B[49m\n\u001B[1;32m   5588\u001B[0m \u001B[43m        \u001B[49m\u001B[43merrors\u001B[49m\u001B[38;5;241;43m=\u001B[39;49m\u001B[43merrors\u001B[49m\u001B[43m,\u001B[49m\n\u001B[1;32m   5589\u001B[0m \u001B[43m    \u001B[49m\u001B[43m)\u001B[49m\n",
      "File \u001B[0;32m/Library/Frameworks/Python.framework/Versions/3.11/lib/python3.11/site-packages/pandas/core/generic.py:4788\u001B[0m, in \u001B[0;36mNDFrame.drop\u001B[0;34m(self, labels, axis, index, columns, level, inplace, errors)\u001B[0m\n\u001B[1;32m   4786\u001B[0m \u001B[38;5;28;01mfor\u001B[39;00m axis, labels \u001B[38;5;129;01min\u001B[39;00m axes\u001B[38;5;241m.\u001B[39mitems():\n\u001B[1;32m   4787\u001B[0m     \u001B[38;5;28;01mif\u001B[39;00m labels \u001B[38;5;129;01mis\u001B[39;00m \u001B[38;5;129;01mnot\u001B[39;00m \u001B[38;5;28;01mNone\u001B[39;00m:\n\u001B[0;32m-> 4788\u001B[0m         obj \u001B[38;5;241m=\u001B[39m \u001B[43mobj\u001B[49m\u001B[38;5;241;43m.\u001B[39;49m\u001B[43m_drop_axis\u001B[49m\u001B[43m(\u001B[49m\u001B[43mlabels\u001B[49m\u001B[43m,\u001B[49m\u001B[43m \u001B[49m\u001B[43maxis\u001B[49m\u001B[43m,\u001B[49m\u001B[43m \u001B[49m\u001B[43mlevel\u001B[49m\u001B[38;5;241;43m=\u001B[39;49m\u001B[43mlevel\u001B[49m\u001B[43m,\u001B[49m\u001B[43m \u001B[49m\u001B[43merrors\u001B[49m\u001B[38;5;241;43m=\u001B[39;49m\u001B[43merrors\u001B[49m\u001B[43m)\u001B[49m\n\u001B[1;32m   4790\u001B[0m \u001B[38;5;28;01mif\u001B[39;00m inplace:\n\u001B[1;32m   4791\u001B[0m     \u001B[38;5;28mself\u001B[39m\u001B[38;5;241m.\u001B[39m_update_inplace(obj)\n",
      "File \u001B[0;32m/Library/Frameworks/Python.framework/Versions/3.11/lib/python3.11/site-packages/pandas/core/generic.py:4830\u001B[0m, in \u001B[0;36mNDFrame._drop_axis\u001B[0;34m(self, labels, axis, level, errors, only_slice)\u001B[0m\n\u001B[1;32m   4828\u001B[0m         new_axis \u001B[38;5;241m=\u001B[39m axis\u001B[38;5;241m.\u001B[39mdrop(labels, level\u001B[38;5;241m=\u001B[39mlevel, errors\u001B[38;5;241m=\u001B[39merrors)\n\u001B[1;32m   4829\u001B[0m     \u001B[38;5;28;01melse\u001B[39;00m:\n\u001B[0;32m-> 4830\u001B[0m         new_axis \u001B[38;5;241m=\u001B[39m \u001B[43maxis\u001B[49m\u001B[38;5;241;43m.\u001B[39;49m\u001B[43mdrop\u001B[49m\u001B[43m(\u001B[49m\u001B[43mlabels\u001B[49m\u001B[43m,\u001B[49m\u001B[43m \u001B[49m\u001B[43merrors\u001B[49m\u001B[38;5;241;43m=\u001B[39;49m\u001B[43merrors\u001B[49m\u001B[43m)\u001B[49m\n\u001B[1;32m   4831\u001B[0m     indexer \u001B[38;5;241m=\u001B[39m axis\u001B[38;5;241m.\u001B[39mget_indexer(new_axis)\n\u001B[1;32m   4833\u001B[0m \u001B[38;5;66;03m# Case for non-unique axis\u001B[39;00m\n\u001B[1;32m   4834\u001B[0m \u001B[38;5;28;01melse\u001B[39;00m:\n",
      "File \u001B[0;32m/Library/Frameworks/Python.framework/Versions/3.11/lib/python3.11/site-packages/pandas/core/indexes/base.py:7070\u001B[0m, in \u001B[0;36mIndex.drop\u001B[0;34m(self, labels, errors)\u001B[0m\n\u001B[1;32m   7068\u001B[0m \u001B[38;5;28;01mif\u001B[39;00m mask\u001B[38;5;241m.\u001B[39many():\n\u001B[1;32m   7069\u001B[0m     \u001B[38;5;28;01mif\u001B[39;00m errors \u001B[38;5;241m!=\u001B[39m \u001B[38;5;124m\"\u001B[39m\u001B[38;5;124mignore\u001B[39m\u001B[38;5;124m\"\u001B[39m:\n\u001B[0;32m-> 7070\u001B[0m         \u001B[38;5;28;01mraise\u001B[39;00m \u001B[38;5;167;01mKeyError\u001B[39;00m(\u001B[38;5;124mf\u001B[39m\u001B[38;5;124m\"\u001B[39m\u001B[38;5;132;01m{\u001B[39;00mlabels[mask]\u001B[38;5;241m.\u001B[39mtolist()\u001B[38;5;132;01m}\u001B[39;00m\u001B[38;5;124m not found in axis\u001B[39m\u001B[38;5;124m\"\u001B[39m)\n\u001B[1;32m   7071\u001B[0m     indexer \u001B[38;5;241m=\u001B[39m indexer[\u001B[38;5;241m~\u001B[39mmask]\n\u001B[1;32m   7072\u001B[0m \u001B[38;5;28;01mreturn\u001B[39;00m \u001B[38;5;28mself\u001B[39m\u001B[38;5;241m.\u001B[39mdelete(indexer)\n",
      "\u001B[0;31mKeyError\u001B[0m: \"['-log(p)', 'p', 'is_significant?', 'corrected_p'] not found in axis\""
     ]
    }
   ],
   "execution_count": 6
  },
  {
   "metadata": {},
   "cell_type": "markdown",
   "source": "### Assignment 3 - eQTLs analysis",
   "id": "e26d4422e072aa7b"
  },
  {
   "metadata": {},
   "cell_type": "markdown",
   "source": "In the third assignment we analyzed the BxD mice strains' genotypes data to find eQTLs that are associated with genes expression levels in two tissues: myeloid and liver. In the myeloid dataset we found 673 unique eQTLs and in the liver dataset we found 1,435 unique eQTLs. Some of the eQTLs are associated with multiple genes, consequently we found 394 cis-acting eQTLs and 961 trans-acting eQTLs in the myeloid dataset and 1,799 cis-acting eQTLs and 4,910 trans-acting eQTLs in the liver dataset. In both datasets we had genes that were found associated to eQTLs but had no genomic location information and therefore we could not have determined whether they are cis-acting or trans-acting.",
   "id": "db8e42369b35a130"
  },
  {
   "metadata": {},
   "cell_type": "markdown",
   "source": "Here is a sample data of the eQTL we found (from the myeloid dataset):",
   "id": "993180237f93576"
  },
  {
   "metadata": {
    "ExecuteTime": {
     "end_time": "2024-10-24T15:10:26.390994Z",
     "start_time": "2024-10-24T15:10:26.386638Z"
    }
   },
   "cell_type": "code",
   "source": "print(eqtls_myeloid.head().to_string())",
   "id": "3307049ab02f631e",
   "outputs": [
    {
     "name": "stdout",
     "output_type": "stream",
     "text": [
      "          snp  chromosome   position                                                                          associated genes  associated genes count  relative position\n",
      "0   rs6404906           4  133563658                [0610009K11Rik, 4931440N07Rik, AI838661, Cd52, Clcnka, Eya3, Sytl1, Tcea3]                       8           0.858320\n",
      "1  rs13478001           4  135998441                [0610009K11Rik, 4931440N07Rik, AI838661, Cd52, Clcnka, Eya3, Sytl1, Tcea3]                       8           0.873967\n",
      "2  rs13478002           4  136230564  [0610009K11Rik, 1110005F07Rik, 4930523M17Rik, C79267, Casp9, Cd52, Clcnka, Padi2, Tcea3]                       9           0.875459\n",
      "3   rs6234904           4  138152372                    [0610009K11Rik, 1110005F07Rik, AI838661, C79267, Casp9, Clcnka, Padi2]                       7           0.887809\n",
      "4  rs13478021           4  140166294                    [0610009K11Rik, 1110005F07Rik, AI838661, C79267, Casp9, Clcnka, Padi2]                       7           0.900751\n"
     ]
    }
   ],
   "execution_count": 7
  },
  {
   "metadata": {},
   "cell_type": "markdown",
   "source": "### Assignment 3 - Combined Results",
   "id": "8896586957ce252d"
  },
  {
   "metadata": {},
   "cell_type": "markdown",
   "source": [
    "After both analyses we found that 4/19 QTLs in the myeloid dataset and 7/19 QTLs that are also eQTLs. \n",
    "In the eQTL analysis we used representative SNPs. Representative SNPs were defined as SNPs that has the exact same genotype data for all BxD strains **AND** are also in close proximity (a distance under 2Mbp). For the QTLs that were not found to be eQTLs we checked whether they are in proximity of those that we did find, making them good candidates to be also eQTLs themselves but the SNPs that were omitted didn't make this possible. When we checked this as well we found that further 12/19 are eQTL suspects in the myeloid dataset and 12/19 are eQTL suspects in the liver dataset.  \n",
    "If we assume that all of the suspects are eQTLs it would make it a total of 16/19 QTLs that are also eQTLs in the myeloid dataset and 19/19 QTLs that are eQTL in the liver dataset.  \n",
    "This information could suggest that the QTLs are affecting the phenotype through gene expression regulation in those QTLs and in those tissues. But, there could be also two other possible relations:\n",
    "1. The QTLs are affecting gene expression and the phenotype independently.\n",
    "2. The QTL is affecting gene experssion through the phenotype."
   ],
   "id": "5226bcffe8408e11"
  },
  {
   "metadata": {},
   "cell_type": "markdown",
   "source": "## - Apply Causality Test on the Results From Previous Parts",
   "id": "1007f090e766f71d"
  },
  {
   "metadata": {},
   "cell_type": "markdown",
   "source": "### Creating Triplets for the Test",
   "id": "482876d46e130510"
  },
  {
   "metadata": {},
   "cell_type": "markdown",
   "source": [
    "To test which option is more likely we would run causality tests on triplets of QTL, eQTL associated genes, and phenotype, where the QTL and eQTL associated genes are in proximity.  \n",
    "To do this we first need to find all eQTLs that are proximal to QTLs:"
   ],
   "id": "7973bbe445b0313c"
  },
  {
   "metadata": {
    "ExecuteTime": {
     "end_time": "2024-10-24T15:10:40.529827Z",
     "start_time": "2024-10-24T15:10:39.974984Z"
    }
   },
   "cell_type": "code",
   "source": [
    "# Define a function that checks if a QTL is close to an eQTL\n",
    "def find_proximal_eqtl(row, eqtls):\n",
    "    '''This function gets a row from a QTL dataframe and a dataframe with eQTLs and returns a list of eQTLs that are in proximity of the QTL'''\n",
    "    \n",
    "    qtl_chromosome = row['Chromosome'] # Extracting QTL chromosome\n",
    "    qtl_position = row['Position'] # Extracting QTL position\n",
    "    snps = [] # Initializing list\n",
    "\n",
    "    # Iterate over all eQTLs\n",
    "    for index, eqtl in eqtls.iterrows():\n",
    "        \n",
    "        # Extracting information\n",
    "        eqtl_name = eqtl['snp'] # Extracting eQTL name\n",
    "        eqtl_chromosome = eqtl['chromosome'] # Extracting eQTL chromosome\n",
    "        eqtl_positions = eqtl['position'] # Extracting eQTL position\n",
    "\n",
    "        # Check if the QTL and eQTL are on the same chromosome\n",
    "        if qtl_chromosome == eqtl_chromosome:\n",
    "\n",
    "            # If the distance is less than the threshold set (basepair_cutoff), they are considered proximal\n",
    "            if abs(qtl_position - eqtl_positions) <= basepair_cutoff:\n",
    "                snps.append(eqtl_name)\n",
    "    \n",
    "    return snps\n",
    "\n",
    "# Find eQTLs that are proximal to QTLs\n",
    "qtls['proximal_eqtl_myeloid'] = qtls.apply(find_proximal_eqtl, eqtls=eqtls_myeloid, axis=1)\n",
    "qtls['proximal_eqtl_liver'] = qtls.apply(find_proximal_eqtl, eqtls=eqtls_liver, axis=1)\n",
    "qtls[['SNP', 'proximal_eqtl_myeloid', 'proximal_eqtl_liver']]"
   ],
   "id": "b275594de0519c90",
   "outputs": [
    {
     "data": {
      "text/plain": [
       "               SNP          proximal_eqtl_myeloid  \\\n",
       "0        rs3699934        [rs13476425, rs3699934]   \n",
       "1       rs13476435                    [rs3699934]   \n",
       "2        rs3709811                    [rs3699934]   \n",
       "3       rs13476448                   [rs13476448]   \n",
       "4   CEL-2_39972578                   [rs13476448]   \n",
       "5   CEL-2_40063411                   [rs13476448]   \n",
       "6        rs6323034                   [rs13476448]   \n",
       "7        rs6324652       [rs13476448, rs13476459]   \n",
       "8       rs13476452       [rs13476448, rs13476459]   \n",
       "9        rs4136879       [rs13476448, rs13476459]   \n",
       "10  CEL-2_50605053               [CEL-2_50605053]   \n",
       "11      rs13476490               [CEL-2_50605053]   \n",
       "12      rs13479451                    [rs3711721]   \n",
       "13       rs3724540                    [rs3711721]   \n",
       "14       rs6386601                    [rs3711721]   \n",
       "15      rs13483110  [UT_17_75.437568, rs13483110]   \n",
       "16       rs3656948  [UT_17_75.437568, rs13483110]   \n",
       "17       rs6278585  [UT_17_75.437568, rs13483110]   \n",
       "18       rs3717212                   [rs13483110]   \n",
       "\n",
       "                                  proximal_eqtl_liver  \n",
       "0                             [rs3699934, rs13476427]  \n",
       "1                                         [rs3699934]  \n",
       "2                                         [rs3699934]  \n",
       "3                            [rs13476448, rs13476456]  \n",
       "4                            [rs13476448, rs13476456]  \n",
       "5                            [rs13476448, rs13476456]  \n",
       "6                            [rs13476448, rs13476456]  \n",
       "7                            [rs13476448, rs13476456]  \n",
       "8                 [rs13476448, rs13476456, rs6288325]  \n",
       "9                 [rs13476448, rs13476456, rs6288325]  \n",
       "10                                   [CEL-2_50605053]  \n",
       "11                                   [CEL-2_50605053]  \n",
       "12                            [rs3711721, rs13479451]  \n",
       "13                            [rs3711721, rs13479451]  \n",
       "14                            [rs3711721, rs13479451]  \n",
       "15  [rs13483110, rs3656948, rs6278585, rs3663088, ...  \n",
       "16  [rs13483110, rs3656948, rs6278585, rs3663088, ...  \n",
       "17  [rs13483110, rs3656948, rs6278585, rs3663088, ...  \n",
       "18  [rs13483110, rs3656948, rs6278585, rs3663088, ...  "
      ],
      "text/html": [
       "<div>\n",
       "<style scoped>\n",
       "    .dataframe tbody tr th:only-of-type {\n",
       "        vertical-align: middle;\n",
       "    }\n",
       "\n",
       "    .dataframe tbody tr th {\n",
       "        vertical-align: top;\n",
       "    }\n",
       "\n",
       "    .dataframe thead th {\n",
       "        text-align: right;\n",
       "    }\n",
       "</style>\n",
       "<table border=\"1\" class=\"dataframe\">\n",
       "  <thead>\n",
       "    <tr style=\"text-align: right;\">\n",
       "      <th></th>\n",
       "      <th>SNP</th>\n",
       "      <th>proximal_eqtl_myeloid</th>\n",
       "      <th>proximal_eqtl_liver</th>\n",
       "    </tr>\n",
       "  </thead>\n",
       "  <tbody>\n",
       "    <tr>\n",
       "      <th>0</th>\n",
       "      <td>rs3699934</td>\n",
       "      <td>[rs13476425, rs3699934]</td>\n",
       "      <td>[rs3699934, rs13476427]</td>\n",
       "    </tr>\n",
       "    <tr>\n",
       "      <th>1</th>\n",
       "      <td>rs13476435</td>\n",
       "      <td>[rs3699934]</td>\n",
       "      <td>[rs3699934]</td>\n",
       "    </tr>\n",
       "    <tr>\n",
       "      <th>2</th>\n",
       "      <td>rs3709811</td>\n",
       "      <td>[rs3699934]</td>\n",
       "      <td>[rs3699934]</td>\n",
       "    </tr>\n",
       "    <tr>\n",
       "      <th>3</th>\n",
       "      <td>rs13476448</td>\n",
       "      <td>[rs13476448]</td>\n",
       "      <td>[rs13476448, rs13476456]</td>\n",
       "    </tr>\n",
       "    <tr>\n",
       "      <th>4</th>\n",
       "      <td>CEL-2_39972578</td>\n",
       "      <td>[rs13476448]</td>\n",
       "      <td>[rs13476448, rs13476456]</td>\n",
       "    </tr>\n",
       "    <tr>\n",
       "      <th>5</th>\n",
       "      <td>CEL-2_40063411</td>\n",
       "      <td>[rs13476448]</td>\n",
       "      <td>[rs13476448, rs13476456]</td>\n",
       "    </tr>\n",
       "    <tr>\n",
       "      <th>6</th>\n",
       "      <td>rs6323034</td>\n",
       "      <td>[rs13476448]</td>\n",
       "      <td>[rs13476448, rs13476456]</td>\n",
       "    </tr>\n",
       "    <tr>\n",
       "      <th>7</th>\n",
       "      <td>rs6324652</td>\n",
       "      <td>[rs13476448, rs13476459]</td>\n",
       "      <td>[rs13476448, rs13476456]</td>\n",
       "    </tr>\n",
       "    <tr>\n",
       "      <th>8</th>\n",
       "      <td>rs13476452</td>\n",
       "      <td>[rs13476448, rs13476459]</td>\n",
       "      <td>[rs13476448, rs13476456, rs6288325]</td>\n",
       "    </tr>\n",
       "    <tr>\n",
       "      <th>9</th>\n",
       "      <td>rs4136879</td>\n",
       "      <td>[rs13476448, rs13476459]</td>\n",
       "      <td>[rs13476448, rs13476456, rs6288325]</td>\n",
       "    </tr>\n",
       "    <tr>\n",
       "      <th>10</th>\n",
       "      <td>CEL-2_50605053</td>\n",
       "      <td>[CEL-2_50605053]</td>\n",
       "      <td>[CEL-2_50605053]</td>\n",
       "    </tr>\n",
       "    <tr>\n",
       "      <th>11</th>\n",
       "      <td>rs13476490</td>\n",
       "      <td>[CEL-2_50605053]</td>\n",
       "      <td>[CEL-2_50605053]</td>\n",
       "    </tr>\n",
       "    <tr>\n",
       "      <th>12</th>\n",
       "      <td>rs13479451</td>\n",
       "      <td>[rs3711721]</td>\n",
       "      <td>[rs3711721, rs13479451]</td>\n",
       "    </tr>\n",
       "    <tr>\n",
       "      <th>13</th>\n",
       "      <td>rs3724540</td>\n",
       "      <td>[rs3711721]</td>\n",
       "      <td>[rs3711721, rs13479451]</td>\n",
       "    </tr>\n",
       "    <tr>\n",
       "      <th>14</th>\n",
       "      <td>rs6386601</td>\n",
       "      <td>[rs3711721]</td>\n",
       "      <td>[rs3711721, rs13479451]</td>\n",
       "    </tr>\n",
       "    <tr>\n",
       "      <th>15</th>\n",
       "      <td>rs13483110</td>\n",
       "      <td>[UT_17_75.437568, rs13483110]</td>\n",
       "      <td>[rs13483110, rs3656948, rs6278585, rs3663088, ...</td>\n",
       "    </tr>\n",
       "    <tr>\n",
       "      <th>16</th>\n",
       "      <td>rs3656948</td>\n",
       "      <td>[UT_17_75.437568, rs13483110]</td>\n",
       "      <td>[rs13483110, rs3656948, rs6278585, rs3663088, ...</td>\n",
       "    </tr>\n",
       "    <tr>\n",
       "      <th>17</th>\n",
       "      <td>rs6278585</td>\n",
       "      <td>[UT_17_75.437568, rs13483110]</td>\n",
       "      <td>[rs13483110, rs3656948, rs6278585, rs3663088, ...</td>\n",
       "    </tr>\n",
       "    <tr>\n",
       "      <th>18</th>\n",
       "      <td>rs3717212</td>\n",
       "      <td>[rs13483110]</td>\n",
       "      <td>[rs13483110, rs3656948, rs6278585, rs3663088, ...</td>\n",
       "    </tr>\n",
       "  </tbody>\n",
       "</table>\n",
       "</div>"
      ]
     },
     "execution_count": 8,
     "metadata": {},
     "output_type": "execute_result"
    }
   ],
   "execution_count": 8
  },
  {
   "metadata": {},
   "cell_type": "markdown",
   "source": "Some of the eQTLs are related to more than one QTL. Let's make a list of unique eQTLs:",
   "id": "c4bdb639ce183196"
  },
  {
   "metadata": {
    "ExecuteTime": {
     "end_time": "2024-10-24T15:10:40.568533Z",
     "start_time": "2024-10-24T15:10:40.564748Z"
    }
   },
   "cell_type": "code",
   "source": [
    "relevant_eqtls = pd.concat([qtls['proximal_eqtl_myeloid'], qtls['proximal_eqtl_liver']], axis=0).to_list()\n",
    "relevant_eqtls = [snp for sublist in relevant_eqtls for snp in sublist]\n",
    "relevant_eqtls = set(relevant_eqtls)\n",
    "relevant_eqtls"
   ],
   "id": "2c5865963b5c4f8a",
   "outputs": [
    {
     "data": {
      "text/plain": [
       "{'CEL-2_50605053',\n",
       " 'UT_17_75.437568',\n",
       " 'rs13476425',\n",
       " 'rs13476427',\n",
       " 'rs13476448',\n",
       " 'rs13476456',\n",
       " 'rs13476459',\n",
       " 'rs13479451',\n",
       " 'rs13483106',\n",
       " 'rs13483110',\n",
       " 'rs3656948',\n",
       " 'rs3663088',\n",
       " 'rs3699934',\n",
       " 'rs3711721',\n",
       " 'rs6278585',\n",
       " 'rs6288325'}"
      ]
     },
     "execution_count": 9,
     "metadata": {},
     "output_type": "execute_result"
    }
   ],
   "execution_count": 9
  },
  {
   "metadata": {},
   "cell_type": "markdown",
   "source": "Now we need to extract genes of the proximal eQTLs that are themselves in proximity to the QTL:",
   "id": "8ba2b342f33edf12"
  },
  {
   "metadata": {
    "ExecuteTime": {
     "end_time": "2024-10-24T15:10:40.708407Z",
     "start_time": "2024-10-24T15:10:40.630643Z"
    }
   },
   "cell_type": "code",
   "source": [
    "# Define a function that gets the genes that are close to the QTL\n",
    "def find_proximal_genes(eqtls_df, genes_df, qtls_df, data_type):\n",
    "    \"\"\"This function gets a dataframe with the eQTLs, a dataframe with the genes, and a dataframe with QTLs\n",
    "    and returns the QTLs dataframe with a column that contains the genes that are close to the QTL\"\"\"\n",
    "    \n",
    "    qtls_df[f'cis genes {data_type}'] = pd.Series([[] for _ in range(len(qtls_df.index))]) # Initializing column with empty list\n",
    "    for index, row in qtls_df.iterrows():\n",
    "        eqtls = row[f'proximal_eqtl_{data_type}'] # Extracting relevant eQTLs \n",
    "        qtl_position = row['Position'] # Extracting QTL position\n",
    "        for eqtl in eqtls:\n",
    "            relevant_genes = eqtls_df[eqtls_df['snp'] == eqtl]['associated genes'].values[0] # Extracting relevant genes\n",
    "            for gene in relevant_genes:\n",
    "                gene_data = genes_df[genes_df['gene'] == gene]\n",
    "                if gene_data.empty:\n",
    "                    continue\n",
    "                if gene_data['chromosome'].values[0] != row['Chromosome']:\n",
    "                    continue\n",
    "                gene_start = gene_data['start position'].values[0]\n",
    "                gene_end = gene_data['end position'].values[0]\n",
    "                if min(abs(gene_start - qtl_position), abs(gene_end - qtl_position)) <= basepair_cutoff:\n",
    "                    qtls_df.at[index, f'cis genes {data_type}'] = qtls_df.at[index, f'cis genes {data_type}'] + [gene]\n",
    "    return qtls_df\n",
    "\n",
    "qtls = find_proximal_genes(eqtls_myeloid, genes_myeloid, qtls, 'myeloid')\n",
    "qtls = find_proximal_genes(eqtls_liver, genes_liver, qtls, 'liver')\n",
    "\n",
    "print(qtls[['SNP', 'cis genes myeloid', 'cis genes liver']].to_string())"
   ],
   "id": "33c20caad5779372",
   "outputs": [
    {
     "name": "stdout",
     "output_type": "stream",
     "text": [
      "               SNP cis genes myeloid                                                                                                                                                                                                                                                                                                                                                                                                                                                                   cis genes liver\n",
      "0        rs3699934                []                                                                                                                                                                                                                                                                                                                                                                                                                                      [hemolytic complement, hemolytic complement]\n",
      "1       rs13476435                []                                                                                                                                                                                                                                                                                                                                                                                                                                                                                []\n",
      "2        rs3709811                []                                                                                                                                                                                                                                                                                                                                                                                                                                                                                []\n",
      "3       rs13476448                []                                                                                                                                                                                                                                                                                                                                                                                                                                                                                []\n",
      "4   CEL-2_39972578                []                                                                                                                                                                                                                                                                                                                                                                                                                                                                                []\n",
      "5   CEL-2_40063411                []                                                                                                                                                                                                                                                                                                                                                                                                                                                                                []\n",
      "6        rs6323034                []                                                                                                                                                                                                                                                                                                                                                                                                                                                                                []\n",
      "7        rs6324652                []                                                                                                                                                                                                                                                                                                                                                                                                                                                                                []\n",
      "8       rs13476452                []                                                                                                                                                                                                                                                                                                                                                                                                                                                                                []\n",
      "9        rs4136879                []                                                                                                                                                                                                                                                                                                                                                                                                                                                                                []\n",
      "10  CEL-2_50605053                []                                                                                                                                                                                                                                                                                                                                                                                                                                       [Rap1 interacting factor 1 homolog (yeast)]\n",
      "11      rs13476490                []                                                                                                                                                                                                                                                                                                                                                                                                                                       [Rap1 interacting factor 1 homolog (yeast)]\n",
      "12      rs13479451         [Ppfibp2]                                                                                                                                                                                                                                                                                                                                                                                                                                                             [olfactomedin-like 1]\n",
      "13       rs3724540         [Ppfibp2]                                                                                                                                                                                                                                                                                                                                                                                                                                                             [olfactomedin-like 1]\n",
      "14       rs6386601         [Ppfibp2]                                                                                                                                                                                                                                                                                                                                                                                                                                                             [olfactomedin-like 1]\n",
      "15      rs13483110                []                                                                                                                                                                                                                                                                                                                                                                                                                                                                                []\n",
      "16       rs3656948                []  [cysteine rich transmembrane BMP regulator 1 (chordin like), fasciculation and elongation protein zeta 2 (zygin II), cysteine rich transmembrane BMP regulator 1 (chordin like), fasciculation and elongation protein zeta 2 (zygin II), cysteine rich transmembrane BMP regulator 1 (chordin like), fasciculation and elongation protein zeta 2 (zygin II), cysteine rich transmembrane BMP regulator 1 (chordin like), fasciculation and elongation protein zeta 2 (zygin II)]\n",
      "17       rs6278585                []  [cysteine rich transmembrane BMP regulator 1 (chordin like), fasciculation and elongation protein zeta 2 (zygin II), cysteine rich transmembrane BMP regulator 1 (chordin like), fasciculation and elongation protein zeta 2 (zygin II), cysteine rich transmembrane BMP regulator 1 (chordin like), fasciculation and elongation protein zeta 2 (zygin II), cysteine rich transmembrane BMP regulator 1 (chordin like), fasciculation and elongation protein zeta 2 (zygin II)]\n",
      "18       rs3717212                []  [cysteine rich transmembrane BMP regulator 1 (chordin like), fasciculation and elongation protein zeta 2 (zygin II), cysteine rich transmembrane BMP regulator 1 (chordin like), fasciculation and elongation protein zeta 2 (zygin II), cysteine rich transmembrane BMP regulator 1 (chordin like), fasciculation and elongation protein zeta 2 (zygin II), cysteine rich transmembrane BMP regulator 1 (chordin like), fasciculation and elongation protein zeta 2 (zygin II)]\n"
     ]
    }
   ],
   "execution_count": 10
  },
  {
   "metadata": {},
   "cell_type": "markdown",
   "source": [
    "Here we convert the data structure from pandas dataframe into a dictionary.  \n",
    "Dictionary is created per dataset and contains QTLs as keys and the list of relevant genes as values (genes of eQTLs were both eQTL and gene are proximal to that QTL):"
   ],
   "id": "9d7722b345fb949d"
  },
  {
   "metadata": {
    "ExecuteTime": {
     "end_time": "2024-10-24T15:10:40.749371Z",
     "start_time": "2024-10-24T15:10:40.745751Z"
    }
   },
   "cell_type": "code",
   "source": [
    "# Create a dictionary that maps each QTL to its associated genes\n",
    "def qtl_gene_dict(qtls, tissue):\n",
    "    \"\"\" This function gets a dataframe with the QTLs, a dataframe with the eQTLs, and a tissue name and returns a dictionary that maps each QTL to its associated genes \n",
    "    \"\"\"\n",
    "\n",
    "    qtl_gene_dict = {} # Initializing dictionary\n",
    "\n",
    "    for index, row in qtls.iterrows():\n",
    "        qtl_name = row['SNP'] # Extracting QTL name \n",
    "        qtl_gene_dict[qtl_name] = qtls.at[index, f'cis genes {tissue}'] # Extracting relevant genes\n",
    "        \n",
    "        # Deleting QTLs that has no related genes\n",
    "        if len(qtl_gene_dict[qtl_name]) == 0:\n",
    "            del qtl_gene_dict[qtl_name] \n",
    "    qtl_gene_dict = {k: list(set(v)) for k, v in qtl_gene_dict.items()}\n",
    "    return qtl_gene_dict\n",
    "\n",
    "qtl_gene_dict_liver = qtl_gene_dict(qtls, 'liver')\n",
    "qtl_gene_dict_myeloid = qtl_gene_dict(qtls, 'myeloid')\n",
    "\n",
    "print(qtl_gene_dict_myeloid)\n",
    "print(qtl_gene_dict_liver)"
   ],
   "id": "efcb5a04b03871b0",
   "outputs": [
    {
     "name": "stdout",
     "output_type": "stream",
     "text": [
      "{'rs13479451': ['Ppfibp2'], 'rs3724540': ['Ppfibp2'], 'rs6386601': ['Ppfibp2']}\n",
      "{'rs3699934': ['hemolytic complement'], 'CEL-2_50605053': ['Rap1 interacting factor 1 homolog (yeast)'], 'rs13476490': ['Rap1 interacting factor 1 homolog (yeast)'], 'rs13479451': ['olfactomedin-like 1'], 'rs3724540': ['olfactomedin-like 1'], 'rs6386601': ['olfactomedin-like 1'], 'rs3656948': ['fasciculation and elongation protein zeta 2 (zygin II)', 'cysteine rich transmembrane BMP regulator 1 (chordin like)'], 'rs6278585': ['fasciculation and elongation protein zeta 2 (zygin II)', 'cysteine rich transmembrane BMP regulator 1 (chordin like)'], 'rs3717212': ['fasciculation and elongation protein zeta 2 (zygin II)', 'cysteine rich transmembrane BMP regulator 1 (chordin like)']}\n"
     ]
    }
   ],
   "execution_count": 11
  },
  {
   "metadata": {},
   "cell_type": "markdown",
   "source": "### Preparing Data for Causality Analysis",
   "id": "87716c1980f8e91e"
  },
  {
   "metadata": {},
   "cell_type": "markdown",
   "source": "Now let's create a dataframe (per dataset) which contains columns of QTL genotype, gene expression levels and the phenotype. Data is ordered where QTL and gene are next to one another and the phenotype is the last column. If QTL is associated with more than one gene or a gene is associated with more than one QTL it would look differently but that wouldn't affect the analysis later since the mapping is saved in the dictionaries we created earlier.",
   "id": "3d58867f863d671f"
  },
  {
   "metadata": {
    "ExecuteTime": {
     "end_time": "2024-10-24T15:10:40.796264Z",
     "start_time": "2024-10-24T15:10:40.771266Z"
    }
   },
   "cell_type": "code",
   "source": [
    "# Create the analysis dataframe\n",
    "def create_analysis_df(qtl_gene_dict, values_df, genotypes_df):\n",
    "    '''This function gets a dictionary that maps SNPs to genes, a dataframe with the gene expression values,\n",
    "    and a dataframe with the genotypes and returns a dataframe with the relevant SNPs, genes, and the phenotype values'''\n",
    "    \n",
    "    genotypes_df = genotypes_df.set_index('Locus')\n",
    "    genotypes_df.drop(columns=['0', \"Chr_Build37\", \"Build37_position\"], inplace=True)\n",
    "    relevant_strains = values_df.columns\n",
    "    genotypes_df = genotypes_df.loc[:, relevant_strains]\n",
    "    analysis_df = pd.DataFrame(index=values_df.columns)\n",
    "    \n",
    "    # Add the SNPs and genes columns\n",
    "    for snp in qtl_gene_dict.keys():\n",
    "        analysis_df[snp] = genotypes_df.loc[snp]\n",
    "        for gene in qtl_gene_dict[snp]:\n",
    "            analysis_df[gene] = values_df.loc[gene]\n",
    "    \n",
    "    # Add the phenotype column\n",
    "    analysis_df['Phenotype'] = phenotype_df.iloc[787, :]\n",
    "    analysis_df = analysis_df.dropna()\n",
    "    return analysis_df\n",
    "\n",
    "# Set the index of the analysis dataframes to the gene name\n",
    "analysis_myeloid = analysis_myeloid.set_index('Symbol')\n",
    "analysis_liver = analysis_liver.set_index('GENE_NAME')\n",
    "\n",
    "# Preparing dataframes for analysis\n",
    "analysis_df_myeloid = create_analysis_df(qtl_gene_dict_myeloid, analysis_myeloid, genotype_df)\n",
    "analysis_df_liver = create_analysis_df(qtl_gene_dict_liver, analysis_liver, genotype_df)\n",
    "\n",
    "print(analysis_df_myeloid.head().to_string())\n",
    "print(analysis_df_liver.head().to_string())"
   ],
   "id": "17327cb9ab903450",
   "outputs": [
    {
     "name": "stdout",
     "output_type": "stream",
     "text": [
      "      rs13479451   Ppfibp2  rs3724540  rs6386601 Phenotype\n",
      "BXD1           0  6.729917          0          0      66.7\n",
      "BXD2           0  6.679828          0          0       0.0\n",
      "BXD6           0  6.797566          0          0      50.0\n",
      "BXD8           0  6.464898          0          0       0.0\n",
      "BXD9           2  7.110817          2          2     100.0\n",
      "      rs3699934  hemolytic complement  CEL-2_50605053  Rap1 interacting factor 1 homolog (yeast)  rs13476490  rs13479451  olfactomedin-like 1  rs3724540  rs6386601  rs3656948  fasciculation and elongation protein zeta 2 (zygin II)  cysteine rich transmembrane BMP regulator 1 (chordin like)  rs6278585  rs3717212 Phenotype\n",
      "BXD1          2                1.1480               2                                  -0.127167           2           0               0.8930          0          0          0                                                 -0.1370                                                     -0.8140          0          0      66.7\n",
      "BXD2          0                1.3790               0                                  -0.537333           0           0               0.5475          0          0          0                                                 -0.1055                                                     -1.0370          0          0       0.0\n",
      "BXD5          2               -1.2235               2                                  -0.339667           2           2               1.7195          2          2          2                                                 -1.1765                                                     -1.2140          2          2     100.0\n",
      "BXD6          0                1.4045               0                                  -0.864667           0           0               1.0385          0          0          0                                                 -0.2130                                                     -0.9225          0          0      50.0\n",
      "BXD8          0                1.4655               0                                  -0.279667           0           0               0.9875          0          0          0                                                 -1.3090                                                     -1.6340          0          0       0.0\n"
     ]
    }
   ],
   "execution_count": 12
  },
  {
   "metadata": {},
   "cell_type": "markdown",
   "source": "### Running Causality Tests",
   "id": "b76188c57e5cc138"
  },
  {
   "metadata": {},
   "cell_type": "markdown",
   "source": "These are functions that will run the tests:",
   "id": "afe5e9ce13c40280"
  },
  {
   "metadata": {
    "ExecuteTime": {
     "end_time": "2024-10-24T15:10:40.849448Z",
     "start_time": "2024-10-24T15:10:40.843639Z"
    }
   },
   "cell_type": "code",
   "source": [
    "# Define the causality test function\n",
    "def causality_test(data, snp, gene, permutation=False):\n",
    "    '''This function gets a dataframe and two columns names, one for the snp and one for the gene,\n",
    "    and returns the likelihood of the 3 possible Bayesian Networks structures:\n",
    "        1. SNP -> Gene -> Phenotype\n",
    "        2. SNP -> Phenotype -> Gene\n",
    "        3. Phenotype <- SNP -> Gene\n",
    "    The function has an optional flag to permutate the data which is disabled by default.\n",
    "    '''\n",
    "\n",
    "    triplet_df = data[[snp, gene, 'Phenotype']].copy()\n",
    "\n",
    "    # If run in permutation mode, permutate the data\n",
    "    if permutation:\n",
    "        triplet_df = triplet_df.apply(np.random.permutation) # Scrambling all columns in the myeloid dataframe\n",
    "\n",
    "    # Discretize the gene expression, we divide it to 3 levels (low, medium, high) - each level is a third of the range of provided values\n",
    "    # Calculating bins\n",
    "    min_value = triplet_df.loc[:, gene].min()\n",
    "    max_value = triplet_df.loc[:, gene].max()\n",
    "    value_range = max_value - min_value\n",
    "    value_bin_width = value_range / 3\n",
    "    bins = [min_value - 1, (min_value + value_bin_width), (min_value + (2 * value_bin_width)), max_value]\n",
    "    # Discretizing the data\n",
    "    triplet_df.loc[:, gene] = pd.cut(triplet_df.loc[:, gene], bins=bins, labels=list(range(len(bins) - 1))).astype(int)\n",
    "    \n",
    "\n",
    "    # Discretize the phenotype, we divide it to 3 levels (low, medium, high) - each level is a third of the range of provided values\n",
    "    # Calculating bins\n",
    "    min_value = triplet_df.loc[:, 'Phenotype'].min()\n",
    "    max_value = triplet_df.loc[:, 'Phenotype'].max()\n",
    "    value_range = max_value - min_value\n",
    "    value_bin_width = value_range / 3\n",
    "    bins = [min_value - 1, (min_value + value_bin_width), (min_value + (2 * value_bin_width)), max_value]\n",
    "    # Discretizing the data\n",
    "    triplet_df.loc[:, 'Phenotype'] = pd.cut(triplet_df.loc[:, 'Phenotype'], bins=bins, labels=list(range(len(bins) - 1))).astype(int)\n",
    "    \n",
    "    # Define the 3 possible structures for the Bayesian Network\n",
    "    edges_1 = [(snp, gene), (gene, 'Phenotype')] # 1. SNP -> Gene -> Phenotype\n",
    "    edges_2 = [(snp, 'Phenotype'), ('Phenotype', gene)] # 2. SNP -> Phenotype -> Gene\n",
    "    edges_3 = [(snp, gene), (snp, 'Phenotype')] # 3. Phenotype <- SNP -> Gene\n",
    "\n",
    "    # Create the models\n",
    "    model_1 = BayesianNetwork(edges_1)\n",
    "    model_2 = BayesianNetwork(edges_2)\n",
    "    model_3 = BayesianNetwork(edges_3)\n",
    "    \n",
    "    # Fit the models\n",
    "    model_1.fit(triplet_df, estimator=MaximumLikelihoodEstimator)\n",
    "    model_2.fit(triplet_df, estimator=MaximumLikelihoodEstimator)\n",
    "    model_3.fit(triplet_df, estimator=MaximumLikelihoodEstimator)\n",
    "    \n",
    "    # Calculate the likelihood\n",
    "    likelihood_1 = np.exp(log_likelihood_score(model_1, triplet_df))\n",
    "    likelihood_2 = np.exp(log_likelihood_score(model_2, triplet_df))\n",
    "    likelihood_3 = np.exp(log_likelihood_score(model_3, triplet_df))\n",
    "    \n",
    "    return likelihood_1, likelihood_2, likelihood_3\n",
    "\n",
    "\n",
    "# Define a function that runs the causality test for all SNP-Gene pairs\n",
    "def run_causality_tests(data, snp_gene_pairs, permutation=False):\n",
    "    '''This function gets a dataframe and a dictionary that maps SNPs to genes and returns\n",
    "    the likelihood of the 3 possible Bayesian Networks structures for each SNP-Gene pair.\n",
    "    The function has an optional flag to permutate the data which is disabled by default.'''\n",
    "    \n",
    "    results = {}\n",
    "    for snp in snp_gene_pairs.keys():\n",
    "        for gene in snp_gene_pairs[snp]:\n",
    "            results[(snp, gene)] = causality_test(data, snp, gene, permutation)\n",
    "    return results"
   ],
   "id": "8a2c633332dcc1bd",
   "outputs": [],
   "execution_count": 13
  },
  {
   "metadata": {},
   "cell_type": "markdown",
   "source": "Running causaility test for the myeloid dataset:",
   "id": "e9b083ef76eaa798"
  },
  {
   "metadata": {
    "ExecuteTime": {
     "end_time": "2024-10-24T15:10:40.900177Z",
     "start_time": "2024-10-24T15:10:40.852799Z"
    }
   },
   "cell_type": "code",
   "source": [
    "# Run the causality tests for the myeloid dataset\n",
    "results_myeloid = run_causality_tests(analysis_df_myeloid, qtl_gene_dict_myeloid)\n",
    "\n",
    "# Reorganizing results dataframe\n",
    "results_myeloid = pd.DataFrame(results_myeloid).T # Transposing dataframe\n",
    "results_myeloid.columns = ['model 1 likelihood', 'model 2 likelihood', 'model 3 likelihood'] # Setting column names\n",
    "results_myeloid['best model'] = results_myeloid.idxmax(axis=1) # Adding a column with the best model (maximal likelihood)\n",
    "results_myeloid['best model'] = results_myeloid['best model'].str.replace('model ', '') # Removing 'model ' from the 'best model' column, the goal is to have only the number of the model\n",
    "results_myeloid['best model'] = results_myeloid['best model'].str.replace(' likelihood', '') # Removing ' likelihood' from the 'best model' column, the goal is to have only the number of the model\n",
    "print(results_myeloid.head().to_string())"
   ],
   "id": "d55bea786212db13",
   "outputs": [
    {
     "name": "stdout",
     "output_type": "stream",
     "text": [
      "                    model 1 likelihood  model 2 likelihood  model 3 likelihood best model\n",
      "rs13479451 Ppfibp2        2.618061e-18        3.321314e-22        1.224481e-18          1\n",
      "rs3724540  Ppfibp2        2.618061e-18        3.321314e-22        1.224481e-18          1\n",
      "rs6386601  Ppfibp2        2.618061e-18        3.321314e-22        1.224481e-18          1\n"
     ]
    }
   ],
   "execution_count": 14
  },
  {
   "metadata": {},
   "cell_type": "markdown",
   "source": "Running causaility test for the liver dataset:",
   "id": "990724a0751fd61f"
  },
  {
   "metadata": {
    "ExecuteTime": {
     "end_time": "2024-10-24T15:10:41.041314Z",
     "start_time": "2024-10-24T15:10:40.921480Z"
    }
   },
   "cell_type": "code",
   "source": [
    "# Run the causality tests for the myeloid dataset\n",
    "results_liver = run_causality_tests(analysis_df_liver, qtl_gene_dict_liver)\n",
    "\n",
    "# Reorganizing results dataframe\n",
    "results_liver = pd.DataFrame(results_liver).T # Transposing dataframe\n",
    "results_liver.columns = ['model 1 likelihood', 'model 2 likelihood', 'model 3 likelihood'] # Setting column names\n",
    "results_liver['best model'] = results_liver.idxmax(axis=1) # Adding a column with the best model (maximal likelihood)\n",
    "results_liver['best model'] = results_liver['best model'].str.replace('model ', '') # Removing 'model ' from the 'best model' column, the goal is to have only the number of the model\n",
    "results_liver['best model'] = results_liver['best model'].str.replace(' likelihood', '') # Removing ' likelihood' from the 'best model' column, the goal is to have only the number of the model\n",
    "print(results_liver.head().to_string())"
   ],
   "id": "6912c8021da8840a",
   "outputs": [
    {
     "name": "stdout",
     "output_type": "stream",
     "text": [
      "                                                          model 1 likelihood  model 2 likelihood  model 3 likelihood best model\n",
      "rs3699934      hemolytic complement                             2.090439e-32        7.630337e-37        4.410124e-32          3\n",
      "CEL-2_50605053 Rap1 interacting factor 1 homolog (yeast)        4.087974e-35        1.141177e-38        3.107066e-35          1\n",
      "rs13476490     Rap1 interacting factor 1 homolog (yeast)        4.087974e-35        1.141177e-38        3.107066e-35          1\n",
      "rs13479451     olfactomedin-like 1                              4.508655e-42        5.545986e-45        1.086204e-40          3\n",
      "rs3724540      olfactomedin-like 1                              4.508655e-42        5.545986e-45        1.086204e-40          3\n"
     ]
    }
   ],
   "execution_count": 15
  },
  {
   "metadata": {},
   "cell_type": "markdown",
   "source": "Create visualization to see how many times each model was chosen as the best model:",
   "id": "db4d1f3b2984e8ba"
  },
  {
   "metadata": {
    "ExecuteTime": {
     "end_time": "2024-10-24T15:10:41.232770Z",
     "start_time": "2024-10-24T15:10:41.061920Z"
    }
   },
   "cell_type": "code",
   "source": [
    "# Count the number of times each model was selected\n",
    "plt.figure(figsize=(10, 5))\n",
    "plt.subplot(1, 2, 1)\n",
    "sns.countplot(data=results_myeloid, x='best model', order=['1', '2', '3'])\n",
    "plt.title('Myeloid Dataset')\n",
    "plt.subplot(1, 2, 2)\n",
    "sns.countplot(data=results_liver, x='best model', order=['1', '2', '3'])\n",
    "plt.title('Liver Dataset')\n",
    "plt.show()"
   ],
   "id": "6a62b68f892b6392",
   "outputs": [
    {
     "data": {
      "text/plain": [
       "<Figure size 1000x500 with 2 Axes>"
      ],
      "image/png": "[encoded data removed]"
     },
     "metadata": {},
     "output_type": "display_data"
    }
   ],
   "execution_count": 16
  },
  {
   "metadata": {},
   "cell_type": "markdown",
   "source": "## - Report the Predicted Relations Among the QTL, Associated Gene, and Phenotype",
   "id": "3525da28ca1817ef"
  },
  {
   "metadata": {},
   "cell_type": "markdown",
   "source": [
    "It seems that for both datasets we recived one of two models:\n",
    "* Model 1 - where the SNP is the parent of the gene and the gene is the parent of the phenotype. This structure suggests that the SNP is affecting the gene expression and the gene expression is affecting the phenotype. This result is consistent with the hypothesis that the QTLs are affecting the phenotype through gene expression regulation in those QTLs and in those tissues.\n",
    "* Model 3 - where the SNP is the parent of the gene and phenotype. This structure suggests that the QTL is also an eQTL, and that it affects both the phenotype and gene expression directly (and does not affect the phenotype via gene expression)"
   ],
   "id": "71927dab2a2dc403"
  },
  {
   "metadata": {},
   "cell_type": "markdown",
   "source": [
    "## - Run the Test on 10 Triplets\n",
    "*Explain the choice you made and the design of permutation test in detail*"
   ],
   "id": "621c1bb084262dd7"
  },
  {
   "metadata": {},
   "cell_type": "markdown",
   "source": [
    "In our permutation test we try to see whether the best model we found is significant. For this we calculate log likelihood ratio (LLR) for each triplet, and then see where it falls within the distribution of LLR's under the null hypothesis: the chosen model have no more explanitory basis, and there is no relation between the SNP, gene and phenotype, or it is a different one than the one we found.\n",
    "To simulate the null hypothesis we permutate the data for the SNP genotype, gene expression and the phenotype. We then try to see if the model we chose best for this triplet is still the best from all three and in how much (we calculate LLR for the scrambeled triplet)."
   ],
   "id": "8ee742d1aadd34dd"
  },
  {
   "metadata": {},
   "cell_type": "markdown",
   "source": [
    "First, we need to choose 10 triplets of SNP, gene and phenotype to test for thier significance using permutation test.  \n",
    "We are chosing the 10 triplets with the highest LLR.  \n",
    "The following function calculates the LLR for any given triplet:"
   ],
   "id": "de492e8589d08e0"
  },
  {
   "metadata": {
    "ExecuteTime": {
     "end_time": "2024-10-24T15:10:41.258081Z",
     "start_time": "2024-10-24T15:10:41.254905Z"
    }
   },
   "cell_type": "code",
   "source": [
    "def calculate_log_likelihood_ratio(row):\n",
    "    if row['best model'] == '1':\n",
    "        log_likelihood_ratio = np.log(row['model 1 likelihood'] / row[['model 2 likelihood', 'model 3 likelihood']].max())\n",
    "    elif row['best model'] == '2':\n",
    "        log_likelihood_ratio = np.log(row['model 2 likelihood'] / row[['model 1 likelihood', 'model 3 likelihood']].max())\n",
    "    elif row['best model'] == '3':\n",
    "        log_likelihood_ratio = np.log(row['model 3 likelihood'] / row[['model 1 likelihood', 'model 2 likelihood']].max())\n",
    "\n",
    "    return log_likelihood_ratio"
   ],
   "id": "c740ba36bccb985c",
   "outputs": [],
   "execution_count": 17
  },
  {
   "metadata": {},
   "cell_type": "markdown",
   "source": "Let's extract the LLR and look at the top ones:",
   "id": "63dae247ad3099ff"
  },
  {
   "metadata": {
    "ExecuteTime": {
     "end_time": "2024-10-24T15:10:41.284851Z",
     "start_time": "2024-10-24T15:10:41.280235Z"
    }
   },
   "cell_type": "code",
   "source": [
    "# Calculating log likelihood ratio\n",
    "results_myeloid['log likelihood ratio'] = results_myeloid.apply(calculate_log_likelihood_ratio, axis=1)\n",
    "results_liver['log likelihood ratio'] = results_liver.apply(calculate_log_likelihood_ratio, axis=1)"
   ],
   "id": "165484c0e642f2f2",
   "outputs": [],
   "execution_count": 18
  },
  {
   "metadata": {},
   "cell_type": "markdown",
   "source": "Top myeloid log likelihood ratio:",
   "id": "3f484bc7130d05e"
  },
  {
   "metadata": {
    "ExecuteTime": {
     "end_time": "2024-10-24T15:10:41.310390Z",
     "start_time": "2024-10-24T15:10:41.306467Z"
    }
   },
   "cell_type": "code",
   "source": "print(results_myeloid.sort_values('log likelihood ratio', ascending=False).head(10).to_string())",
   "id": "f05bb2897f362489",
   "outputs": [
    {
     "name": "stdout",
     "output_type": "stream",
     "text": [
      "                    model 1 likelihood  model 2 likelihood  model 3 likelihood best model  log likelihood ratio\n",
      "rs13479451 Ppfibp2        2.618061e-18        3.321314e-22        1.224481e-18          1              0.759917\n",
      "rs3724540  Ppfibp2        2.618061e-18        3.321314e-22        1.224481e-18          1              0.759917\n",
      "rs6386601  Ppfibp2        2.618061e-18        3.321314e-22        1.224481e-18          1              0.759917\n"
     ]
    }
   ],
   "execution_count": 19
  },
  {
   "metadata": {},
   "cell_type": "markdown",
   "source": [
    "We can see that all triplets in the myeloid dataset has excatly the same values across all columns, and that they are all related to the same gene with a different QTLs loci:\n",
    "Let's look at the QTL:"
   ],
   "id": "78ea28579f2d07ba"
  },
  {
   "metadata": {
    "ExecuteTime": {
     "end_time": "2024-10-24T15:10:41.337424Z",
     "start_time": "2024-10-24T15:10:41.333162Z"
    }
   },
   "cell_type": "code",
   "source": [
    "for index in results_myeloid.index:\n",
    "    print(qtls[qtls['SNP'] == index[0]][['Chromosome', 'Position']])"
   ],
   "id": "3bdda2e192f7f95c",
   "outputs": [
    {
     "name": "stdout",
     "output_type": "stream",
     "text": [
      "    Chromosome     Position\n",
      "12           7  114512549.0\n",
      "    Chromosome     Position\n",
      "13           7  114542346.0\n",
      "    Chromosome     Position\n",
      "14           7  114746367.0\n"
     ]
    }
   ],
   "execution_count": 20
  },
  {
   "metadata": {},
   "cell_type": "markdown",
   "source": "We can see that the QTLs are very close (less than 250Kbp from one another), suggesting that all of them are markers for one locus. We will choose the first one to represent all three of them.",
   "id": "68cba4e27ffb0fae"
  },
  {
   "metadata": {},
   "cell_type": "markdown",
   "source": "Top liver log likelihood ratio:",
   "id": "2588e123fd451511"
  },
  {
   "metadata": {
    "ExecuteTime": {
     "end_time": "2024-10-24T15:10:41.364387Z",
     "start_time": "2024-10-24T15:10:41.360236Z"
    }
   },
   "cell_type": "code",
   "source": "print(results_liver.sort_values('log likelihood ratio', ascending=False).head(10).to_string())",
   "id": "4aa7cbd9464c7a1",
   "outputs": [
    {
     "name": "stdout",
     "output_type": "stream",
     "text": [
      "                                                                       model 1 likelihood  model 2 likelihood  model 3 likelihood best model  log likelihood ratio\n",
      "rs3656948  cysteine rich transmembrane BMP regulator 1 (chordin like)        1.479703e-40        5.483971e-42        3.812444e-39          3              3.249014\n",
      "rs13479451 olfactomedin-like 1                                               4.508655e-42        5.545986e-45        1.086204e-40          3              3.181860\n",
      "rs3724540  olfactomedin-like 1                                               4.508655e-42        5.545986e-45        1.086204e-40          3              3.181860\n",
      "rs6386601  olfactomedin-like 1                                               4.508655e-42        5.545986e-45        1.086204e-40          3              3.181860\n",
      "rs6278585  cysteine rich transmembrane BMP regulator 1 (chordin like)        5.026471e-39        3.213523e-42        5.564794e-38          3              2.404327\n",
      "rs3717212  cysteine rich transmembrane BMP regulator 1 (chordin like)        5.026471e-39        3.213523e-42        5.564794e-38          3              2.404327\n",
      "rs3656948  fasciculation and elongation protein zeta 2 (zygin II)            1.426967e-31        5.187018e-37        6.143220e-31          3              1.459798\n",
      "rs3699934  hemolytic complement                                              2.090439e-32        7.630337e-37        4.410124e-32          3              0.746529\n",
      "rs6278585  fasciculation and elongation protein zeta 2 (zygin II)            8.338881e-30        3.039513e-37        1.542577e-29          3              0.615111\n",
      "rs3717212  fasciculation and elongation protein zeta 2 (zygin II)            8.338881e-30        3.039513e-37        1.542577e-29          3              0.615111\n"
     ]
    }
   ],
   "execution_count": 21
  },
  {
   "metadata": {},
   "cell_type": "markdown",
   "source": "We see that the best 10 triplets are 1 of the myeloid and the top 9 of the liver. Let's take the top 9 from the liver dataset and create a new dictionary for the causality test.",
   "id": "e17ca164fb63b148"
  },
  {
   "metadata": {
    "ExecuteTime": {
     "end_time": "2024-10-24T15:10:41.390780Z",
     "start_time": "2024-10-24T15:10:41.386757Z"
    }
   },
   "cell_type": "code",
   "source": [
    "# Initializing variables\n",
    "permutation_qtl_gene_dict_liver = {} # Initializing dictionary\n",
    "results_permutation = results_liver.sort_values('log likelihood ratio', ascending=False).head(9).copy() # Initializing dataframe\n",
    "\n",
    "# Populating dictionary from the top 9 log likelihood ratios of SNP-gene-phenotype triplets\n",
    "for index, _ in results_permutation.iterrows():\n",
    "    \n",
    "    # Extracting information\n",
    "    snp_name  = index[0] # Extracting SNP name\n",
    "    gene_name = index[1] # Extracting gene name\n",
    "\n",
    "    # Adding gene to the list of associated\n",
    "    try:\n",
    "        permutation_qtl_gene_dict_liver[snp_name].append(gene_name)\n",
    "    \n",
    "    # If list of associated genes doesn't exist - initialize it first\n",
    "    except:\n",
    "        permutation_qtl_gene_dict_liver[snp_name] = [] # Initializing list of associated genes\n",
    "        permutation_qtl_gene_dict_liver[snp_name].append(gene_name)\n",
    "\n",
    "permutation_qtl_gene_dict_liver"
   ],
   "id": "8458dba6c4b060ba",
   "outputs": [
    {
     "data": {
      "text/plain": [
       "{'rs3656948': ['cysteine rich transmembrane BMP regulator 1 (chordin like)',\n",
       "  'fasciculation and elongation protein zeta 2 (zygin II)'],\n",
       " 'rs13479451': ['olfactomedin-like 1'],\n",
       " 'rs3724540': ['olfactomedin-like 1'],\n",
       " 'rs6386601': ['olfactomedin-like 1'],\n",
       " 'rs6278585': ['cysteine rich transmembrane BMP regulator 1 (chordin like)',\n",
       "  'fasciculation and elongation protein zeta 2 (zygin II)'],\n",
       " 'rs3717212': ['cysteine rich transmembrane BMP regulator 1 (chordin like)'],\n",
       " 'rs3699934': ['hemolytic complement']}"
      ]
     },
     "execution_count": 22,
     "metadata": {},
     "output_type": "execute_result"
    }
   ],
   "execution_count": 22
  },
  {
   "metadata": {},
   "cell_type": "markdown",
   "source": "## - Apply Permutation Test to Get Statistical Significance For One or a Few Specific Causality Hypotheses",
   "id": "538a01a83a1a56fe"
  },
  {
   "metadata": {},
   "cell_type": "markdown",
   "source": "let's write a function for the permutation test:",
   "id": "e873dc41f2d3f49f"
  },
  {
   "metadata": {
    "ExecuteTime": {
     "end_time": "2024-10-24T15:10:41.419064Z",
     "start_time": "2024-10-24T15:10:41.416977Z"
    }
   },
   "cell_type": "code",
   "source": [
    "def run_permutation_causality_tests(df, qtl_gene_dict, comparison_models):\n",
    "    \n",
    "    # Run the causality test in permutation mode\n",
    "    df = run_causality_tests(df, qtl_gene_dict, permutation=True)\n",
    "\n",
    "    # Reorganizing dataframe\n",
    "    df = pd.DataFrame(df).T # Transposing dataframe\n",
    "    df.columns = ['model 1 likelihood', 'model 2 likelihood', 'model 3 likelihood'] # Setting column names\n",
    "    df['best model'] = comparison_models # The model which was found as best in the unpermutated data\n",
    "\n",
    "    # Calculating log likelihood ratio\n",
    "    df['log likelihood ratio'] = df.apply(calculate_log_likelihood_ratio, axis=1) # Calculating log likelihood ratio\n",
    "    \n",
    "    # Returning a numpy array with the log likelihood ratio of the permutations for each triplet\n",
    "    return df['log likelihood ratio'].to_numpy()"
   ],
   "id": "ec21cc5e9cf580fc",
   "outputs": [],
   "execution_count": 23
  },
  {
   "metadata": {},
   "cell_type": "markdown",
   "source": "Now let's run the permutation test in a for loop. Running for liver triplets (top 9):",
   "id": "b0b147211ba4bcb2"
  },
  {
   "metadata": {
    "ExecuteTime": {
     "end_time": "2024-10-24T15:14:51.677289Z",
     "start_time": "2024-10-24T15:10:41.441479Z"
    }
   },
   "cell_type": "code",
   "source": [
    "# Initializing results matrix\n",
    "triplet_count = sum(len(value) for value in permutation_qtl_gene_dict_liver.values())\n",
    "permutation_llr_results_liver = np.zeros((triplet_count, repetitions))  # Preallocate memory\n",
    "\n",
    "# Extracting the model we need to compare to:\n",
    "comparison_models = [] # Initializing list\n",
    "for snp in permutation_qtl_gene_dict_liver:\n",
    "    for gene in permutation_qtl_gene_dict_liver[snp]:\n",
    "        comparison_models.append(results_liver.at[(snp, gene), 'best model'])\n",
    "\n",
    "# Define a function to run a single repetition\n",
    "def run_single_repetition_liver(rep):\n",
    "    return run_permutation_causality_tests(analysis_df_liver, permutation_qtl_gene_dict_liver, comparison_models)\n",
    "\n",
    "# Run the permutation tests in parallel (using all available cores)\n",
    "permutation_results_liver = Parallel(n_jobs=-1)(delayed(run_single_repetition_liver)(rep) for rep in range(repetitions))\n",
    "\n",
    "# Store the results\n",
    "for repetition in range(repetitions):\n",
    "        permutation_llr_results_liver[:, repetition] = permutation_results_liver[repetition]"
   ],
   "id": "495702e28d39a400",
   "outputs": [],
   "execution_count": 24
  },
  {
   "metadata": {},
   "cell_type": "markdown",
   "source": "Running for myeloid triplet:",
   "id": "4c6e09190f408b8d"
  },
  {
   "metadata": {
    "ExecuteTime": {
     "end_time": "2024-10-24T15:15:19.434168Z",
     "start_time": "2024-10-24T15:14:51.766190Z"
    }
   },
   "cell_type": "code",
   "source": [
    "# Manually setting the triplet\n",
    "permutation_qtl_gene_dict_myeloid = {'rs13479451': ['Ppfibp2']}\n",
    "\n",
    "# Initializing results matrix\n",
    "triplet_count = sum(len(value) for value in permutation_qtl_gene_dict_myeloid.values())\n",
    "permutation_llr_results_myeloid = np.zeros((triplet_count, repetitions))  # Preallocate memory\n",
    "\n",
    "# Extracting the model we need to compare to:\n",
    "comparison_models = [] # Initializing list\n",
    "for snp in permutation_qtl_gene_dict_myeloid:\n",
    "    for gene in permutation_qtl_gene_dict_myeloid[snp]:\n",
    "        comparison_models.append(results_myeloid.at[(snp, gene), 'best model'])\n",
    "\n",
    "# Define a function to run a single repetition\n",
    "def run_single_repetition_myeloid(rep):\n",
    "    return run_permutation_causality_tests(analysis_df_myeloid, permutation_qtl_gene_dict_myeloid, comparison_models)\n",
    "\n",
    "# Run the permutation tests in parallel (using all available cores)\n",
    "permutation_results_myeloid = Parallel(n_jobs=-1)(delayed(run_single_repetition_myeloid)(rep) for rep in range(repetitions))\n",
    "\n",
    "# Store the results\n",
    "for repetition in range(repetitions):\n",
    "    permutation_llr_results_myeloid[:, repetition] = permutation_results_myeloid[repetition]\n"
   ],
   "id": "f5cee764c081f0b1",
   "outputs": [],
   "execution_count": 25
  },
  {
   "metadata": {},
   "cell_type": "markdown",
   "source": "Adding both results to one matrix, and adding results permutation dataframes:",
   "id": "d3c660b81c0af8da"
  },
  {
   "metadata": {
    "ExecuteTime": {
     "end_time": "2024-10-24T15:15:19.493965Z",
     "start_time": "2024-10-24T15:15:19.477412Z"
    }
   },
   "cell_type": "code",
   "source": [
    "permutation_llr_results = np.concat([permutation_llr_results_liver, permutation_llr_results_myeloid], axis=0) # Creating combined llr results matrix \n",
    "results_permutation = pd.concat([results_liver.sort_values('log likelihood ratio', ascending=False).head(9).copy(), results_myeloid.head(1)], axis=0) # Creating combined results dataframe"
   ],
   "id": "bc79aa95375a200a",
   "outputs": [],
   "execution_count": 26
  },
  {
   "metadata": {},
   "cell_type": "markdown",
   "source": "Great, let's plot the results to see if we have any significant findings:",
   "id": "59d75038e2e5bbb4"
  },
  {
   "metadata": {
    "ExecuteTime": {
     "end_time": "2024-10-24T15:15:20.841781Z",
     "start_time": "2024-10-24T15:15:19.553050Z"
    }
   },
   "cell_type": "code",
   "source": [
    "triplets_llr = results_permutation['log likelihood ratio'].to_numpy() # Extracting the log likelihood ratio of the original data \n",
    "\n",
    "# Initializing subplots\n",
    "fig = plt.figure(figsize=(10, 12)) # Creating a figure\n",
    "gs = gridspec.GridSpec(4, 3, figure=fig) # Creating subplots grid\n",
    "\n",
    "# Initializing p_10-value vector\n",
    "triplet_p_value = []\n",
    "\n",
    "# Plotting for each triplet\n",
    "for triplet in range(permutation_llr_results.shape[0]):\n",
    "    \n",
    "    # Ordering LLR (x axis)\n",
    "    permutation_llr = sorted(permutation_llr_results[triplet, :])  # Ordering permutated data\n",
    "    significance_threshold = permutation_llr[round(len(permutation_llr) * 0.95)] # Extracting the value of the significance threshold (95% - α = 0.05)\n",
    "\n",
    "    # Adding p_10-value of the original data to list\n",
    "    triplet_insertion_index = np.searchsorted(permutation_llr, triplets_llr[triplet])  # Get the index where the original data would be inserted to maintain order\n",
    "    permutation_percentile = (np.array(range(1, len(permutation_llr) + 1)) / len(permutation_llr)) * 100 # Calculating percentile for the permutated data\n",
    "    \n",
    "    # If original data is bigger than all permutated data \n",
    "    if triplet_insertion_index == len(permutation_llr):\n",
    "        p = 0 # The probability of getting a higher value from the permutated data distribution is 0 since it is the highest value\n",
    "    else:\n",
    "        p = float(round(100 - permutation_percentile[triplet_insertion_index], 3)) / 100 # Calculating p_10 value of the original data in the permutated data distribution\n",
    "    triplet_p_value.append(p)\n",
    "\n",
    "    # Creating a pandas dataframe for the seaborn scatter plot\n",
    "    plot_data = pd.DataFrame({'percentile': permutation_percentile, 'LLR': permutation_llr, 'type': (['permutation'] * len(permutation_percentile))})\n",
    "    plot_data.loc[triplet_insertion_index, 'type'] = 'original'\n",
    "\n",
    "    # Plotting data\n",
    "    if triplet < 9:\n",
    "        ax = fig.add_subplot(gs[triplet])  # Create subplot for the first 9 plots\n",
    "    else:\n",
    "        ax = fig.add_subplot(gs[triplet // 3, 1:2])  # Center the 10th plot (on the last row, middle column)\n",
    "    \n",
    "    sns.histplot(data=plot_data, x='LLR', ax=ax, log_scale=False, label='Permutated Data') # Plotting  permutated data\n",
    "\n",
    "    # Adding the original data to the plot\n",
    "    scatterplot_data = pd.DataFrame({'LLR': [triplets_llr[triplet]], 'y': [permutation_llr_results.shape[1] / 50]})\n",
    "    sns.scatterplot(data=scatterplot_data, x='LLR', y='y', ax=ax, label='Original Data') # Plotting\n",
    "    \n",
    "    # Plot customization\n",
    "    ax.set_title(f'Permutation Test Triplet #{triplet + 1}\\nTested Model {results_permutation.iloc[triplet][\"best model\"]}')  # Adding a title\n",
    "    ax.axvline(x=significance_threshold, color='r', label='significance threshold', linestyle='-.')  # Adding significance threshold\n",
    "    ax.set_xlabel('Log Likelihood Ratio')  # Adding x-axis title\n",
    "\n",
    "    # Adding legend\n",
    "    handles, labels = ax.get_legend_handles_labels()\n",
    "    ax.legend(handles=handles, labels=labels, fontsize='x-small')\n",
    "\n",
    "\n",
    "# Removing unused plots\n",
    "fig.add_subplot(gs[10]).axis('off')\n",
    "fig.add_subplot(gs[11]).axis('off')\n",
    "\n",
    "# Showing plots\n",
    "plt.tight_layout()\n",
    "plt.show()"
   ],
   "id": "830a6dde4dc19dbc",
   "outputs": [
    {
     "data": {
      "text/plain": [
       "<Figure size 1000x1200 with 12 Axes>"
      ],
      "image/png": "[encoded data removed]"
     },
     "metadata": {},
     "output_type": "display_data"
    }
   ],
   "execution_count": 27
  },
  {
   "metadata": {},
   "cell_type": "markdown",
   "source": "Let's also correct for multiple testing and print the corrected p values:",
   "id": "c2287d2a6eeb16c2"
  },
  {
   "metadata": {
    "ExecuteTime": {
     "end_time": "2024-10-24T15:15:20.855087Z",
     "start_time": "2024-10-24T15:15:20.850881Z"
    }
   },
   "cell_type": "code",
   "source": [
    "# Correcting for multiple tests:\n",
    "corrected_p_values = fdrcorrection(triplet_p_value)[1]\n",
    "for triplet in range(permutation_llr_results.shape[0]):\n",
    "\n",
    "    # Extracting triplet names\n",
    "    snp_name =  results_permutation.iloc[triplet].name[0]\n",
    "    gene_name =  results_permutation.iloc[triplet].name[1]\n",
    "    report = f'{snp_name}, {gene_name}'\n",
    "\n",
    "    # Printing p_10-value infomation\n",
    "    print(f'triplet: {report}:')\n",
    "    print(f'p_10-value: {triplet_p_value[triplet]}\\tcorrected p_10-value: {corrected_p_values[triplet]}')"
   ],
   "id": "31d5e926d9e6bdef",
   "outputs": [
    {
     "name": "stdout",
     "output_type": "stream",
     "text": [
      "triplet: rs3656948, cysteine rich transmembrane BMP regulator 1 (chordin like):\n",
      "p_10-value: 0.0001\tcorrected p_10-value: 0.0005\n",
      "triplet: rs13479451, olfactomedin-like 1:\n",
      "p_10-value: 0\tcorrected p_10-value: 0.0\n",
      "triplet: rs3724540, olfactomedin-like 1:\n",
      "p_10-value: 0.0031\tcorrected p_10-value: 0.007749999999999999\n",
      "triplet: rs6386601, olfactomedin-like 1:\n",
      "p_10-value: 0.0046\tcorrected p_10-value: 0.009166666666666668\n",
      "triplet: rs6278585, cysteine rich transmembrane BMP regulator 1 (chordin like):\n",
      "p_10-value: 0.0165\tcorrected p_10-value: 0.023571428571428573\n",
      "triplet: rs3717212, cysteine rich transmembrane BMP regulator 1 (chordin like):\n",
      "p_10-value: 0.0013\tcorrected p_10-value: 0.004333333333333333\n",
      "triplet: rs3656948, fasciculation and elongation protein zeta 2 (zygin II):\n",
      "p_10-value: 0.0055000000000000005\tcorrected p_10-value: 0.009166666666666668\n",
      "triplet: rs3699934, hemolytic complement:\n",
      "p_10-value: 0.0256\tcorrected p_10-value: 0.032\n",
      "triplet: rs6278585, fasciculation and elongation protein zeta 2 (zygin II):\n",
      "p_10-value: 0.0395\tcorrected p_10-value: 0.04388888888888889\n",
      "triplet: rs13479451, Ppfibp2:\n",
      "p_10-value: 0.1484\tcorrected p_10-value: 0.1484\n"
     ]
    }
   ],
   "execution_count": 28
  },
  {
   "metadata": {
    "ExecuteTime": {
     "end_time": "2024-10-24T15:15:20.883381Z",
     "start_time": "2024-10-24T15:15:20.881606Z"
    }
   },
   "cell_type": "code",
   "source": "",
   "id": "3127d4bf9d86441e",
   "outputs": [],
   "execution_count": null
  }
 ],
 "metadata": {
  "kernelspec": {
   "display_name": "Python 3",
   "language": "python",
   "name": "python3"
  },
  "language_info": {
   "codemirror_mode": {
    "name": "ipython",
    "version": 2
   },
   "file_extension": ".py",
   "mimetype": "text/x-python",
   "name": "python",
   "nbconvert_exporter": "python",
   "pygments_lexer": "ipython2",
   "version": "2.7.6"
  }
 },
 "nbformat": 4,
 "nbformat_minor": 5
}
